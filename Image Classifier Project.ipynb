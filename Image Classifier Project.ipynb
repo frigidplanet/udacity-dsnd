{
 "cells": [
  {
   "cell_type": "markdown",
   "metadata": {},
   "source": [
    "# Developing an AI application\n",
    "\n",
    "Going forward, AI algorithms will be incorporated into more and more everyday applications. For example, you might want to include an image classifier in a smart phone app. To do this, you'd use a deep learning model trained on hundreds of thousands of images as part of the overall application architecture. A large part of software development in the future will be using these types of models as common parts of applications. \n",
    "\n",
    "In this project, you'll train an image classifier to recognize different species of flowers. You can imagine using something like this in a phone app that tells you the name of the flower your camera is looking at. In practice you'd train this classifier, then export it for use in your application. We'll be using [this dataset](http://www.robots.ox.ac.uk/~vgg/data/flowers/102/index.html) of 102 flower categories, you can see a few examples below. \n",
    "\n",
    "<img src='assets/Flowers.png' width=500px>\n",
    "\n",
    "The project is broken down into multiple steps:\n",
    "\n",
    "* Load and preprocess the image dataset\n",
    "* Train the image classifier on your dataset\n",
    "* Use the trained classifier to predict image content\n",
    "\n",
    "We'll lead you through each part which you'll implement in Python.\n",
    "\n",
    "When you've completed this project, you'll have an application that can be trained on any set of labeled images. Here your network will be learning about flowers and end up as a command line application. But, what you do with your new skills depends on your imagination and effort in building a dataset. For example, imagine an app where you take a picture of a car, it tells you what the make and model is, then looks up information about it. Go build your own dataset and make something new.\n",
    "\n",
    "First up is importing the packages you'll need. It's good practice to keep all the imports at the beginning of your code. As you work through this notebook and find you need to import a package, make sure to add the import up here."
   ]
  },
  {
   "cell_type": "code",
   "execution_count": 15,
   "metadata": {},
   "outputs": [],
   "source": [
    "# Imports here\n",
    "\n",
    "import torch\n",
    "import numpy as np\n",
    "from torch import nn\n",
    "from torch import optim\n",
    "import torch.nn.functional as F\n",
    "from torchvision import datasets, transforms, models\n",
    "from collections import OrderedDict\n",
    "from matplotlib import pyplot as plt"
   ]
  },
  {
   "cell_type": "code",
   "execution_count": 16,
   "metadata": {},
   "outputs": [
    {
     "name": "stdout",
     "output_type": "stream",
     "text": [
      "GPU Count: 1 Type: Tesla K80\n"
     ]
    }
   ],
   "source": [
    "print('GPU Count: {} Type: {}'\n",
    "      .format(torch.cuda.device_count(), torch.cuda.get_device_name(torch.cuda.current_device())))"
   ]
  },
  {
   "cell_type": "markdown",
   "metadata": {},
   "source": [
    "## Load the data\n",
    "\n",
    "Here you'll use `torchvision` to load the data ([documentation](http://pytorch.org/docs/0.3.0/torchvision/index.html)). The data should be included alongside this notebook, otherwise you can [download it here](https://s3.amazonaws.com/content.udacity-data.com/nd089/flower_data.tar.gz). The dataset is split into three parts, training, validation, and testing. For the training, you'll want to apply transformations such as random scaling, cropping, and flipping. This will help the network generalize leading to better performance. You'll also need to make sure the input data is resized to 224x224 pixels as required by the pre-trained networks.\n",
    "\n",
    "The validation and testing sets are used to measure the model's performance on data it hasn't seen yet. For this you don't want any scaling or rotation transformations, but you'll need to resize then crop the images to the appropriate size.\n",
    "\n",
    "The pre-trained networks you'll use were trained on the ImageNet dataset where each color channel was normalized separately. For all three sets you'll need to normalize the means and standard deviations of the images to what the network expects. For the means, it's `[0.485, 0.456, 0.406]` and for the standard deviations `[0.229, 0.224, 0.225]`, calculated from the ImageNet images.  These values will shift each color channel to be centered at 0 and range from -1 to 1.\n",
    " "
   ]
  },
  {
   "cell_type": "code",
   "execution_count": 17,
   "metadata": {},
   "outputs": [],
   "source": [
    "data_dir = 'flowers'\n",
    "train_dir = data_dir + '/train'\n",
    "valid_dir = data_dir + '/valid'\n",
    "test_dir = data_dir + '/test'"
   ]
  },
  {
   "cell_type": "code",
   "execution_count": 18,
   "metadata": {},
   "outputs": [],
   "source": [
    "# TODO: Define your transforms for the training, validation, and testing sets\n",
    "train_transforms = transforms.Compose([transforms.RandomRotation(30),\n",
    "                                       transforms.RandomResizedCrop(224),\n",
    "                                       transforms.RandomHorizontalFlip(),\n",
    "                                       transforms.ToTensor(),\n",
    "                                       transforms.Normalize([0.485, 0.456, 0.406], \n",
    "                                                            [0.229, 0.224, 0.225])])\n",
    "\n",
    "test_transforms = transforms.Compose([transforms.Resize(256),\n",
    "                                      transforms.CenterCrop(224),\n",
    "                                      transforms.ToTensor(),\n",
    "                                      transforms.Normalize([0.485, 0.456, 0.406], \n",
    "                                                           [0.229, 0.224, 0.225])])\n",
    "\n",
    "valid_transforms = transforms.Compose([transforms.Resize(256),\n",
    "                                      transforms.CenterCrop(224),\n",
    "                                      transforms.ToTensor(),\n",
    "                                      transforms.Normalize([0.485, 0.456, 0.406], \n",
    "                                                           [0.229, 0.224, 0.225])])\n",
    "\n",
    "# TODO: Load the datasets with ImageFolder\n",
    "train_dataset = datasets.ImageFolder(train_dir, transform=train_transforms)\n",
    "test_dataset = datasets.ImageFolder(test_dir, transform=test_transforms)\n",
    "valid_dataset = datasets.ImageFolder(valid_dir, transform=valid_transforms)\n",
    "\n",
    "# TODO: Using the image datasets and the trainforms, define the dataloaders\n",
    "trainloader = torch.utils.data.DataLoader(train_dataset, batch_size=64, shuffle=True)\n",
    "testloader = torch.utils.data.DataLoader(test_dataset, batch_size=32)\n",
    "validloader = torch.utils.data.DataLoader(valid_dataset, batch_size=32)"
   ]
  },
  {
   "cell_type": "markdown",
   "metadata": {},
   "source": [
    "### Label mapping\n",
    "\n",
    "You'll also need to load in a mapping from category label to category name. You can find this in the file `cat_to_name.json`. It's a JSON object which you can read in with the [`json` module](https://docs.python.org/2/library/json.html). This will give you a dictionary mapping the integer encoded categories to the actual names of the flowers."
   ]
  },
  {
   "cell_type": "code",
   "execution_count": 19,
   "metadata": {},
   "outputs": [],
   "source": [
    "import json\n",
    "\n",
    "with open('cat_to_name.json', 'r') as f:\n",
    "    cat_to_name = json.load(f)"
   ]
  },
  {
   "cell_type": "markdown",
   "metadata": {},
   "source": [
    "# Building and training the classifier\n",
    "\n",
    "Now that the data is ready, it's time to build and train the classifier. As usual, you should use one of the pretrained models from `torchvision.models` to get the image features. Build and train a new feed-forward classifier using those features.\n",
    "\n",
    "We're going to leave this part up to you. If you want to talk through it with someone, chat with your fellow students! You can also ask questions on the forums or join the instructors in office hours.\n",
    "\n",
    "Refer to [the rubric](https://review.udacity.com/#!/rubrics/1663/view) for guidance on successfully completing this section. Things you'll need to do:\n",
    "\n",
    "* Load a [pre-trained network](http://pytorch.org/docs/master/torchvision/models.html) (If you need a starting point, the VGG networks work great and are straightforward to use)\n",
    "* Define a new, untrained feed-forward network as a classifier, using ReLU activations and dropout\n",
    "* Train the classifier layers using backpropagation using the pre-trained network to get the features\n",
    "* Track the loss and accuracy on the validation set to determine the best hyperparameters\n",
    "\n",
    "We've left a cell open for you below, but use as many as you need. Our advice is to break the problem up into smaller parts you can run separately. Check that each part is doing what you expect, then move on to the next. You'll likely find that as you work through each part, you'll need to go back and modify your previous code. This is totally normal!\n",
    "\n",
    "When training make sure you're updating only the weights of the feed-forward network. You should be able to get the validation accuracy above 70% if you build everything right. Make sure to try different hyperparameters (learning rate, units in the classifier, epochs, etc) to find the best model. Save those hyperparameters to use as default values in the next part of the project."
   ]
  },
  {
   "cell_type": "code",
   "execution_count": 20,
   "metadata": {
    "scrolled": true
   },
   "outputs": [
    {
     "data": {
      "text/plain": [
       "VGG(\n",
       "  (features): Sequential(\n",
       "    (0): Conv2d(3, 64, kernel_size=(3, 3), stride=(1, 1), padding=(1, 1))\n",
       "    (1): ReLU(inplace)\n",
       "    (2): Conv2d(64, 64, kernel_size=(3, 3), stride=(1, 1), padding=(1, 1))\n",
       "    (3): ReLU(inplace)\n",
       "    (4): MaxPool2d(kernel_size=2, stride=2, padding=0, dilation=1, ceil_mode=False)\n",
       "    (5): Conv2d(64, 128, kernel_size=(3, 3), stride=(1, 1), padding=(1, 1))\n",
       "    (6): ReLU(inplace)\n",
       "    (7): Conv2d(128, 128, kernel_size=(3, 3), stride=(1, 1), padding=(1, 1))\n",
       "    (8): ReLU(inplace)\n",
       "    (9): MaxPool2d(kernel_size=2, stride=2, padding=0, dilation=1, ceil_mode=False)\n",
       "    (10): Conv2d(128, 256, kernel_size=(3, 3), stride=(1, 1), padding=(1, 1))\n",
       "    (11): ReLU(inplace)\n",
       "    (12): Conv2d(256, 256, kernel_size=(3, 3), stride=(1, 1), padding=(1, 1))\n",
       "    (13): ReLU(inplace)\n",
       "    (14): Conv2d(256, 256, kernel_size=(3, 3), stride=(1, 1), padding=(1, 1))\n",
       "    (15): ReLU(inplace)\n",
       "    (16): MaxPool2d(kernel_size=2, stride=2, padding=0, dilation=1, ceil_mode=False)\n",
       "    (17): Conv2d(256, 512, kernel_size=(3, 3), stride=(1, 1), padding=(1, 1))\n",
       "    (18): ReLU(inplace)\n",
       "    (19): Conv2d(512, 512, kernel_size=(3, 3), stride=(1, 1), padding=(1, 1))\n",
       "    (20): ReLU(inplace)\n",
       "    (21): Conv2d(512, 512, kernel_size=(3, 3), stride=(1, 1), padding=(1, 1))\n",
       "    (22): ReLU(inplace)\n",
       "    (23): MaxPool2d(kernel_size=2, stride=2, padding=0, dilation=1, ceil_mode=False)\n",
       "    (24): Conv2d(512, 512, kernel_size=(3, 3), stride=(1, 1), padding=(1, 1))\n",
       "    (25): ReLU(inplace)\n",
       "    (26): Conv2d(512, 512, kernel_size=(3, 3), stride=(1, 1), padding=(1, 1))\n",
       "    (27): ReLU(inplace)\n",
       "    (28): Conv2d(512, 512, kernel_size=(3, 3), stride=(1, 1), padding=(1, 1))\n",
       "    (29): ReLU(inplace)\n",
       "    (30): MaxPool2d(kernel_size=2, stride=2, padding=0, dilation=1, ceil_mode=False)\n",
       "  )\n",
       "  (classifier): Sequential(\n",
       "    (0): Linear(in_features=25088, out_features=4096, bias=True)\n",
       "    (1): ReLU(inplace)\n",
       "    (2): Dropout(p=0.5)\n",
       "    (3): Linear(in_features=4096, out_features=4096, bias=True)\n",
       "    (4): ReLU(inplace)\n",
       "    (5): Dropout(p=0.5)\n",
       "    (6): Linear(in_features=4096, out_features=1000, bias=True)\n",
       "  )\n",
       ")"
      ]
     },
     "execution_count": 20,
     "metadata": {},
     "output_type": "execute_result"
    }
   ],
   "source": [
    "# Set the model\n",
    "model = models.vgg16(pretrained=True)\n",
    "model"
   ]
  },
  {
   "cell_type": "code",
   "execution_count": 23,
   "metadata": {
    "scrolled": true
   },
   "outputs": [
    {
     "data": {
      "text/plain": [
       "VGG(\n",
       "  (features): Sequential(\n",
       "    (0): Conv2d(3, 64, kernel_size=(3, 3), stride=(1, 1), padding=(1, 1))\n",
       "    (1): ReLU(inplace)\n",
       "    (2): Conv2d(64, 64, kernel_size=(3, 3), stride=(1, 1), padding=(1, 1))\n",
       "    (3): ReLU(inplace)\n",
       "    (4): MaxPool2d(kernel_size=2, stride=2, padding=0, dilation=1, ceil_mode=False)\n",
       "    (5): Conv2d(64, 128, kernel_size=(3, 3), stride=(1, 1), padding=(1, 1))\n",
       "    (6): ReLU(inplace)\n",
       "    (7): Conv2d(128, 128, kernel_size=(3, 3), stride=(1, 1), padding=(1, 1))\n",
       "    (8): ReLU(inplace)\n",
       "    (9): MaxPool2d(kernel_size=2, stride=2, padding=0, dilation=1, ceil_mode=False)\n",
       "    (10): Conv2d(128, 256, kernel_size=(3, 3), stride=(1, 1), padding=(1, 1))\n",
       "    (11): ReLU(inplace)\n",
       "    (12): Conv2d(256, 256, kernel_size=(3, 3), stride=(1, 1), padding=(1, 1))\n",
       "    (13): ReLU(inplace)\n",
       "    (14): Conv2d(256, 256, kernel_size=(3, 3), stride=(1, 1), padding=(1, 1))\n",
       "    (15): ReLU(inplace)\n",
       "    (16): MaxPool2d(kernel_size=2, stride=2, padding=0, dilation=1, ceil_mode=False)\n",
       "    (17): Conv2d(256, 512, kernel_size=(3, 3), stride=(1, 1), padding=(1, 1))\n",
       "    (18): ReLU(inplace)\n",
       "    (19): Conv2d(512, 512, kernel_size=(3, 3), stride=(1, 1), padding=(1, 1))\n",
       "    (20): ReLU(inplace)\n",
       "    (21): Conv2d(512, 512, kernel_size=(3, 3), stride=(1, 1), padding=(1, 1))\n",
       "    (22): ReLU(inplace)\n",
       "    (23): MaxPool2d(kernel_size=2, stride=2, padding=0, dilation=1, ceil_mode=False)\n",
       "    (24): Conv2d(512, 512, kernel_size=(3, 3), stride=(1, 1), padding=(1, 1))\n",
       "    (25): ReLU(inplace)\n",
       "    (26): Conv2d(512, 512, kernel_size=(3, 3), stride=(1, 1), padding=(1, 1))\n",
       "    (27): ReLU(inplace)\n",
       "    (28): Conv2d(512, 512, kernel_size=(3, 3), stride=(1, 1), padding=(1, 1))\n",
       "    (29): ReLU(inplace)\n",
       "    (30): MaxPool2d(kernel_size=2, stride=2, padding=0, dilation=1, ceil_mode=False)\n",
       "  )\n",
       "  (classifier): Sequential(\n",
       "    (fc1): Linear(in_features=25088, out_features=2048, bias=True)\n",
       "    (relu1): ReLU()\n",
       "    (drop1): Dropout(p=0.5)\n",
       "    (fc2): Linear(in_features=2048, out_features=512, bias=True)\n",
       "    (relu2): ReLU()\n",
       "    (drop2): Dropout(p=0.5)\n",
       "    (fc3): Linear(in_features=512, out_features=102, bias=True)\n",
       "    (relu3): ReLU()\n",
       "    (output): LogSoftmax()\n",
       "  )\n",
       ")"
      ]
     },
     "execution_count": 23,
     "metadata": {},
     "output_type": "execute_result"
    }
   ],
   "source": [
    "# Freeze parameters so we don't backprop through them\n",
    "for param in model.parameters():\n",
    "    param.requires_grad = False\n",
    "\n",
    "# Create a new classifier and set it on the model\n",
    "classifier = nn.Sequential(OrderedDict([\n",
    "    ('fc1', nn.Linear(25088, 2048)),\n",
    "    ('relu1', nn.ReLU()),\n",
    "    ('drop1', nn.Dropout(p=0.5)),\n",
    "    ('fc2', nn.Linear(2048, 512)),\n",
    "    ('relu2', nn.ReLU()),\n",
    "    ('drop2', nn.Dropout(p=0.5)),\n",
    "    ('fc3', nn.Linear(512, 102)),\n",
    "    ('relu3', nn.ReLU()),\n",
    "    ('output', nn.LogSoftmax(dim=1))\n",
    "]))\n",
    "    \n",
    "model.classifier = classifier\n",
    "\n",
    "# change to cuda\n",
    "model.to('cuda')\n",
    "\n",
    "criterion = nn.NLLLoss()\n",
    "optimizer = optim.Adam(model.classifier.parameters(), lr=0.0001)\n",
    "\n",
    "scheduler = optim.lr_scheduler.StepLR(optimizer, step_size=5, gamma=0.1)\n",
    "\n",
    "model"
   ]
  },
  {
   "cell_type": "code",
   "execution_count": 24,
   "metadata": {},
   "outputs": [],
   "source": [
    "# Implement a function for the validation pass\n",
    "def validation(model, testloader, criterion):\n",
    "    test_loss = 0\n",
    "    accuracy = 0\n",
    "    for images, labels in testloader:\n",
    "\n",
    "        images, labels = images.to('cuda'), labels.to('cuda')\n",
    "        \n",
    "        output = model.forward(images)\n",
    "        test_loss += criterion(output, labels).item()\n",
    "\n",
    "        ps = torch.exp(output)\n",
    "        equality = (labels.data == ps.max(dim=1)[1])\n",
    "        accuracy += equality.type(torch.FloatTensor).mean()\n",
    "    \n",
    "    return test_loss, accuracy"
   ]
  },
  {
   "cell_type": "code",
   "execution_count": 25,
   "metadata": {},
   "outputs": [
    {
     "name": "stdout",
     "output_type": "stream",
     "text": [
      "Epoch: 1/10..  Training Loss: 4.614..  Test Loss: 4.528..  Test Accuracy: 0.071\n",
      "Epoch: 1/10..  Training Loss: 4.551..  Test Loss: 4.424..  Test Accuracy: 0.102\n",
      "Epoch: 1/10..  Training Loss: 4.485..  Test Loss: 4.324..  Test Accuracy: 0.141\n",
      "Epoch: 1/10..  Training Loss: 4.404..  Test Loss: 4.196..  Test Accuracy: 0.184\n",
      "Epoch: 1/10..  Training Loss: 4.345..  Test Loss: 4.051..  Test Accuracy: 0.226\n",
      "Epoch: 1/10..  Training Loss: 4.249..  Test Loss: 3.893..  Test Accuracy: 0.214\n",
      "Epoch: 1/10..  Training Loss: 4.146..  Test Loss: 3.720..  Test Accuracy: 0.292\n",
      "Epoch: 1/10..  Training Loss: 3.948..  Test Loss: 3.616..  Test Accuracy: 0.294\n",
      "Epoch: 1/10..  Training Loss: 4.023..  Test Loss: 3.467..  Test Accuracy: 0.343\n",
      "Epoch: 1/10..  Training Loss: 3.876..  Test Loss: 3.335..  Test Accuracy: 0.364\n",
      "Epoch: 2/10..  Training Loss: 3.681..  Test Loss: 3.229..  Test Accuracy: 0.359\n",
      "Epoch: 2/10..  Training Loss: 3.752..  Test Loss: 3.127..  Test Accuracy: 0.406\n",
      "Epoch: 2/10..  Training Loss: 3.581..  Test Loss: 3.009..  Test Accuracy: 0.439\n",
      "Epoch: 2/10..  Training Loss: 3.486..  Test Loss: 2.929..  Test Accuracy: 0.452\n",
      "Epoch: 2/10..  Training Loss: 3.494..  Test Loss: 2.847..  Test Accuracy: 0.453\n",
      "Epoch: 2/10..  Training Loss: 3.375..  Test Loss: 2.788..  Test Accuracy: 0.468\n",
      "Epoch: 2/10..  Training Loss: 3.244..  Test Loss: 2.708..  Test Accuracy: 0.479\n",
      "Epoch: 2/10..  Training Loss: 3.184..  Test Loss: 2.590..  Test Accuracy: 0.494\n",
      "Epoch: 2/10..  Training Loss: 3.062..  Test Loss: 2.500..  Test Accuracy: 0.503\n",
      "Epoch: 2/10..  Training Loss: 2.856..  Test Loss: 2.433..  Test Accuracy: 0.531\n",
      "Epoch: 3/10..  Training Loss: 3.021..  Test Loss: 2.411..  Test Accuracy: 0.527\n",
      "Epoch: 3/10..  Training Loss: 2.895..  Test Loss: 2.366..  Test Accuracy: 0.529\n",
      "Epoch: 3/10..  Training Loss: 2.700..  Test Loss: 2.310..  Test Accuracy: 0.536\n",
      "Epoch: 3/10..  Training Loss: 2.831..  Test Loss: 2.248..  Test Accuracy: 0.580\n",
      "Epoch: 3/10..  Training Loss: 2.758..  Test Loss: 2.197..  Test Accuracy: 0.589\n",
      "Epoch: 3/10..  Training Loss: 2.669..  Test Loss: 2.189..  Test Accuracy: 0.581\n",
      "Epoch: 3/10..  Training Loss: 2.673..  Test Loss: 2.161..  Test Accuracy: 0.581\n",
      "Epoch: 3/10..  Training Loss: 2.701..  Test Loss: 2.131..  Test Accuracy: 0.607\n",
      "Epoch: 3/10..  Training Loss: 2.773..  Test Loss: 2.092..  Test Accuracy: 0.608\n",
      "Epoch: 3/10..  Training Loss: 2.789..  Test Loss: 2.081..  Test Accuracy: 0.614\n",
      "Epoch: 4/10..  Training Loss: 2.615..  Test Loss: 2.073..  Test Accuracy: 0.605\n",
      "Epoch: 4/10..  Training Loss: 2.707..  Test Loss: 2.030..  Test Accuracy: 0.613\n",
      "Epoch: 4/10..  Training Loss: 2.326..  Test Loss: 2.019..  Test Accuracy: 0.615\n",
      "Epoch: 4/10..  Training Loss: 2.573..  Test Loss: 1.998..  Test Accuracy: 0.616\n",
      "Epoch: 4/10..  Training Loss: 2.553..  Test Loss: 1.982..  Test Accuracy: 0.634\n",
      "Epoch: 4/10..  Training Loss: 2.418..  Test Loss: 1.968..  Test Accuracy: 0.633\n",
      "Epoch: 4/10..  Training Loss: 2.445..  Test Loss: 1.940..  Test Accuracy: 0.648\n",
      "Epoch: 4/10..  Training Loss: 2.462..  Test Loss: 1.905..  Test Accuracy: 0.651\n",
      "Epoch: 4/10..  Training Loss: 2.406..  Test Loss: 1.896..  Test Accuracy: 0.649\n",
      "Epoch: 4/10..  Training Loss: 2.474..  Test Loss: 1.939..  Test Accuracy: 0.642\n",
      "Epoch: 4/10..  Training Loss: 2.520..  Test Loss: 1.881..  Test Accuracy: 0.662\n",
      "Epoch: 5/10..  Training Loss: 2.296..  Test Loss: 1.867..  Test Accuracy: 0.651\n",
      "Epoch: 5/10..  Training Loss: 2.341..  Test Loss: 1.853..  Test Accuracy: 0.649\n",
      "Epoch: 5/10..  Training Loss: 2.329..  Test Loss: 1.834..  Test Accuracy: 0.662\n",
      "Epoch: 5/10..  Training Loss: 2.297..  Test Loss: 1.805..  Test Accuracy: 0.663\n",
      "Epoch: 5/10..  Training Loss: 2.320..  Test Loss: 1.833..  Test Accuracy: 0.662\n",
      "Epoch: 5/10..  Training Loss: 2.428..  Test Loss: 1.834..  Test Accuracy: 0.664\n",
      "Epoch: 5/10..  Training Loss: 2.292..  Test Loss: 1.783..  Test Accuracy: 0.668\n",
      "Epoch: 5/10..  Training Loss: 2.204..  Test Loss: 1.759..  Test Accuracy: 0.678\n",
      "Epoch: 5/10..  Training Loss: 2.335..  Test Loss: 1.745..  Test Accuracy: 0.685\n",
      "Epoch: 5/10..  Training Loss: 2.291..  Test Loss: 1.745..  Test Accuracy: 0.676\n",
      "Epoch: 6/10..  Training Loss: 2.191..  Test Loss: 1.750..  Test Accuracy: 0.672\n",
      "Epoch: 6/10..  Training Loss: 2.237..  Test Loss: 1.742..  Test Accuracy: 0.674\n",
      "Epoch: 6/10..  Training Loss: 2.154..  Test Loss: 1.733..  Test Accuracy: 0.678\n",
      "Epoch: 6/10..  Training Loss: 2.173..  Test Loss: 1.727..  Test Accuracy: 0.681\n",
      "Epoch: 6/10..  Training Loss: 2.265..  Test Loss: 1.722..  Test Accuracy: 0.684\n",
      "Epoch: 6/10..  Training Loss: 2.141..  Test Loss: 1.719..  Test Accuracy: 0.686\n",
      "Epoch: 6/10..  Training Loss: 2.090..  Test Loss: 1.715..  Test Accuracy: 0.686\n",
      "Epoch: 6/10..  Training Loss: 2.229..  Test Loss: 1.712..  Test Accuracy: 0.688\n",
      "Epoch: 6/10..  Training Loss: 2.116..  Test Loss: 1.709..  Test Accuracy: 0.687\n",
      "Epoch: 6/10..  Training Loss: 2.007..  Test Loss: 1.705..  Test Accuracy: 0.688\n",
      "Epoch: 7/10..  Training Loss: 2.141..  Test Loss: 1.702..  Test Accuracy: 0.686\n",
      "Epoch: 7/10..  Training Loss: 2.123..  Test Loss: 1.701..  Test Accuracy: 0.685\n",
      "Epoch: 7/10..  Training Loss: 2.143..  Test Loss: 1.699..  Test Accuracy: 0.684\n",
      "Epoch: 7/10..  Training Loss: 2.101..  Test Loss: 1.697..  Test Accuracy: 0.685\n",
      "Epoch: 7/10..  Training Loss: 2.095..  Test Loss: 1.697..  Test Accuracy: 0.686\n",
      "Epoch: 7/10..  Training Loss: 2.174..  Test Loss: 1.695..  Test Accuracy: 0.687\n",
      "Epoch: 7/10..  Training Loss: 2.086..  Test Loss: 1.693..  Test Accuracy: 0.690\n",
      "Epoch: 7/10..  Training Loss: 2.218..  Test Loss: 1.692..  Test Accuracy: 0.691\n",
      "Epoch: 7/10..  Training Loss: 2.013..  Test Loss: 1.689..  Test Accuracy: 0.691\n",
      "Epoch: 7/10..  Training Loss: 2.160..  Test Loss: 1.688..  Test Accuracy: 0.692\n",
      "Epoch: 7/10..  Training Loss: 2.164..  Test Loss: 1.686..  Test Accuracy: 0.692\n",
      "Epoch: 8/10..  Training Loss: 2.108..  Test Loss: 1.684..  Test Accuracy: 0.691\n",
      "Epoch: 8/10..  Training Loss: 2.121..  Test Loss: 1.681..  Test Accuracy: 0.691\n",
      "Epoch: 8/10..  Training Loss: 2.103..  Test Loss: 1.680..  Test Accuracy: 0.693\n",
      "Epoch: 8/10..  Training Loss: 2.073..  Test Loss: 1.680..  Test Accuracy: 0.693\n",
      "Epoch: 8/10..  Training Loss: 2.102..  Test Loss: 1.678..  Test Accuracy: 0.691\n",
      "Epoch: 8/10..  Training Loss: 2.119..  Test Loss: 1.676..  Test Accuracy: 0.690\n",
      "Epoch: 8/10..  Training Loss: 2.117..  Test Loss: 1.675..  Test Accuracy: 0.688\n",
      "Epoch: 8/10..  Training Loss: 2.218..  Test Loss: 1.672..  Test Accuracy: 0.690\n",
      "Epoch: 8/10..  Training Loss: 2.108..  Test Loss: 1.671..  Test Accuracy: 0.690\n",
      "Epoch: 8/10..  Training Loss: 2.144..  Test Loss: 1.670..  Test Accuracy: 0.693\n",
      "Epoch: 9/10..  Training Loss: 2.093..  Test Loss: 1.668..  Test Accuracy: 0.693\n",
      "Epoch: 9/10..  Training Loss: 2.164..  Test Loss: 1.667..  Test Accuracy: 0.693\n",
      "Epoch: 9/10..  Training Loss: 2.139..  Test Loss: 1.663..  Test Accuracy: 0.691\n",
      "Epoch: 9/10..  Training Loss: 2.187..  Test Loss: 1.661..  Test Accuracy: 0.690\n",
      "Epoch: 9/10..  Training Loss: 2.030..  Test Loss: 1.658..  Test Accuracy: 0.692\n",
      "Epoch: 9/10..  Training Loss: 2.109..  Test Loss: 1.657..  Test Accuracy: 0.693\n",
      "Epoch: 9/10..  Training Loss: 2.118..  Test Loss: 1.655..  Test Accuracy: 0.694\n",
      "Epoch: 9/10..  Training Loss: 2.029..  Test Loss: 1.652..  Test Accuracy: 0.696\n",
      "Epoch: 9/10..  Training Loss: 1.911..  Test Loss: 1.649..  Test Accuracy: 0.697\n",
      "Epoch: 9/10..  Training Loss: 2.038..  Test Loss: 1.648..  Test Accuracy: 0.694\n",
      "Epoch: 10/10..  Training Loss: 1.973..  Test Loss: 1.646..  Test Accuracy: 0.693\n",
      "Epoch: 10/10..  Training Loss: 2.038..  Test Loss: 1.644..  Test Accuracy: 0.693\n",
      "Epoch: 10/10..  Training Loss: 2.163..  Test Loss: 1.643..  Test Accuracy: 0.694\n",
      "Epoch: 10/10..  Training Loss: 2.081..  Test Loss: 1.641..  Test Accuracy: 0.693\n",
      "Epoch: 10/10..  Training Loss: 1.914..  Test Loss: 1.640..  Test Accuracy: 0.694\n",
      "Epoch: 10/10..  Training Loss: 2.150..  Test Loss: 1.639..  Test Accuracy: 0.697\n",
      "Epoch: 10/10..  Training Loss: 2.158..  Test Loss: 1.637..  Test Accuracy: 0.697\n",
      "Epoch: 10/10..  Training Loss: 2.086..  Test Loss: 1.634..  Test Accuracy: 0.696\n",
      "Epoch: 10/10..  Training Loss: 1.915..  Test Loss: 1.632..  Test Accuracy: 0.698\n",
      "Epoch: 10/10..  Training Loss: 2.138..  Test Loss: 1.630..  Test Accuracy: 0.698\n",
      "Epoch: 10/10..  Training Loss: 2.064..  Test Loss: 1.628..  Test Accuracy: 0.698\n"
     ]
    }
   ],
   "source": [
    "# Train the model\n",
    "epochs = 10\n",
    "print_every = 10\n",
    "steps = 0\n",
    "running_loss = 0\n",
    "\n",
    "for e in range(epochs):\n",
    "    model.train()\n",
    "    scheduler.step()\n",
    "    \n",
    "    for images, labels in trainloader:\n",
    "        steps += 1\n",
    "    \n",
    "        images, labels = images.to('cuda'), labels.to('cuda')\n",
    "        \n",
    "        optimizer.zero_grad()\n",
    "        \n",
    "        # Forward and backward passes\n",
    "        outputs = model.forward(images)\n",
    "        loss = criterion(outputs, labels)\n",
    "        loss.backward()\n",
    "        optimizer.step()\n",
    "        \n",
    "        #track loss\n",
    "        running_loss += loss.item()\n",
    "\n",
    "        if steps % print_every == 0:\n",
    "            # Make sure network is in eval mode for inference\n",
    "            model.eval()\n",
    "            \n",
    "            # Turn off gradients for validation, saves memory and computations\n",
    "            with torch.no_grad():\n",
    "                test_loss, accuracy = validation(model, validloader, criterion)\n",
    "                \n",
    "            print(\"Epoch: {}/{}.. \".format(e+1, epochs),\n",
    "                  \"Training Loss: {:.3f}.. \".format(running_loss/print_every),\n",
    "                  \"Test Loss: {:.3f}.. \".format(test_loss/len(validloader)),\n",
    "                  \"Test Accuracy: {:.3f}\".format(accuracy/len(validloader)))\n",
    "            \n",
    "            running_loss = 0\n",
    "            \n",
    "            # Make sure training is back on\n",
    "            model.train()"
   ]
  },
  {
   "cell_type": "markdown",
   "metadata": {},
   "source": [
    "## Testing your network\n",
    "\n",
    "It's good practice to test your trained network on test data, images the network has never seen either in training or validation. This will give you a good estimate for the model's performance on completely new images. Run the test images through the network and measure the accuracy, the same way you did validation. You should be able to reach around 70% accuracy on the test set if the model has been trained well."
   ]
  },
  {
   "cell_type": "code",
   "execution_count": 26,
   "metadata": {},
   "outputs": [
    {
     "name": "stdout",
     "output_type": "stream",
     "text": [
      "Accuracy of the network on the test images: 70 %\n"
     ]
    }
   ],
   "source": [
    "# TODO: Do validation on the test set\n",
    "correct = 0\n",
    "total = 0\n",
    "model.eval()\n",
    "with torch.no_grad():\n",
    "    for data in testloader:\n",
    "        images, labels = data\n",
    "        images, labels = images.to('cuda'), labels.to('cuda')\n",
    "        outputs = model(images)\n",
    "        _, predicted = torch.max(outputs.data, 1)\n",
    "        total += labels.size(0)\n",
    "        correct += (predicted == labels).sum().item()\n",
    "\n",
    "print('Accuracy of the network on the test images: %d %%' % (100 * correct / total))"
   ]
  },
  {
   "cell_type": "markdown",
   "metadata": {},
   "source": [
    "## Save the checkpoint\n",
    "\n",
    "Now that your network is trained, save the model so you can load it later for making predictions. You probably want to save other things such as the mapping of classes to indices which you get from one of the image datasets: `image_datasets['train'].class_to_idx`. You can attach this to the model as an attribute which makes inference easier later on.\n",
    "\n",
    "```model.class_to_idx = image_datasets['train'].class_to_idx```\n",
    "\n",
    "Remember that you'll want to completely rebuild the model later so you can use it for inference. Make sure to include any information you need in the checkpoint. If you want to load the model and keep training, you'll want to save the number of epochs as well as the optimizer state, `optimizer.state_dict`. You'll likely want to use this trained model in the next part of the project, so best to save it now."
   ]
  },
  {
   "cell_type": "code",
   "execution_count": 27,
   "metadata": {},
   "outputs": [],
   "source": [
    "# TODO: Save the checkpoint \n",
    "model.class_to_idx = train_dataset.class_to_idx\n",
    "\n",
    "state = {\n",
    "    'state_dict': model.state_dict(),\n",
    "    'classifier': classifier,\n",
    "    'class_to_idx': model.class_to_idx\n",
    "}\n",
    "\n",
    "torch.save(state, 'imageclassifiermodel.pth')"
   ]
  },
  {
   "cell_type": "markdown",
   "metadata": {},
   "source": [
    "## Loading the checkpoint\n",
    "\n",
    "At this point it's good to write a function that can load a checkpoint and rebuild the model. That way you can come back to this project and keep working on it without having to retrain the network."
   ]
  },
  {
   "cell_type": "code",
   "execution_count": 28,
   "metadata": {
    "scrolled": true
   },
   "outputs": [
    {
     "data": {
      "text/plain": [
       "VGG(\n",
       "  (features): Sequential(\n",
       "    (0): Conv2d(3, 64, kernel_size=(3, 3), stride=(1, 1), padding=(1, 1))\n",
       "    (1): ReLU(inplace)\n",
       "    (2): Conv2d(64, 64, kernel_size=(3, 3), stride=(1, 1), padding=(1, 1))\n",
       "    (3): ReLU(inplace)\n",
       "    (4): MaxPool2d(kernel_size=2, stride=2, padding=0, dilation=1, ceil_mode=False)\n",
       "    (5): Conv2d(64, 128, kernel_size=(3, 3), stride=(1, 1), padding=(1, 1))\n",
       "    (6): ReLU(inplace)\n",
       "    (7): Conv2d(128, 128, kernel_size=(3, 3), stride=(1, 1), padding=(1, 1))\n",
       "    (8): ReLU(inplace)\n",
       "    (9): MaxPool2d(kernel_size=2, stride=2, padding=0, dilation=1, ceil_mode=False)\n",
       "    (10): Conv2d(128, 256, kernel_size=(3, 3), stride=(1, 1), padding=(1, 1))\n",
       "    (11): ReLU(inplace)\n",
       "    (12): Conv2d(256, 256, kernel_size=(3, 3), stride=(1, 1), padding=(1, 1))\n",
       "    (13): ReLU(inplace)\n",
       "    (14): Conv2d(256, 256, kernel_size=(3, 3), stride=(1, 1), padding=(1, 1))\n",
       "    (15): ReLU(inplace)\n",
       "    (16): MaxPool2d(kernel_size=2, stride=2, padding=0, dilation=1, ceil_mode=False)\n",
       "    (17): Conv2d(256, 512, kernel_size=(3, 3), stride=(1, 1), padding=(1, 1))\n",
       "    (18): ReLU(inplace)\n",
       "    (19): Conv2d(512, 512, kernel_size=(3, 3), stride=(1, 1), padding=(1, 1))\n",
       "    (20): ReLU(inplace)\n",
       "    (21): Conv2d(512, 512, kernel_size=(3, 3), stride=(1, 1), padding=(1, 1))\n",
       "    (22): ReLU(inplace)\n",
       "    (23): MaxPool2d(kernel_size=2, stride=2, padding=0, dilation=1, ceil_mode=False)\n",
       "    (24): Conv2d(512, 512, kernel_size=(3, 3), stride=(1, 1), padding=(1, 1))\n",
       "    (25): ReLU(inplace)\n",
       "    (26): Conv2d(512, 512, kernel_size=(3, 3), stride=(1, 1), padding=(1, 1))\n",
       "    (27): ReLU(inplace)\n",
       "    (28): Conv2d(512, 512, kernel_size=(3, 3), stride=(1, 1), padding=(1, 1))\n",
       "    (29): ReLU(inplace)\n",
       "    (30): MaxPool2d(kernel_size=2, stride=2, padding=0, dilation=1, ceil_mode=False)\n",
       "  )\n",
       "  (classifier): Sequential(\n",
       "    (fc1): Linear(in_features=25088, out_features=2048, bias=True)\n",
       "    (relu1): ReLU()\n",
       "    (drop1): Dropout(p=0.5)\n",
       "    (fc2): Linear(in_features=2048, out_features=512, bias=True)\n",
       "    (relu2): ReLU()\n",
       "    (drop2): Dropout(p=0.5)\n",
       "    (fc3): Linear(in_features=512, out_features=102, bias=True)\n",
       "    (relu3): ReLU()\n",
       "    (output): LogSoftmax()\n",
       "  )\n",
       ")"
      ]
     },
     "execution_count": 28,
     "metadata": {},
     "output_type": "execute_result"
    }
   ],
   "source": [
    "# TODO: Write a function that loads a checkpoint and rebuilds the model\n",
    "def loadModel(load_pth):\n",
    "    state = torch.load(load_pth)\n",
    "    model = models.vgg16(pretrained=True)\n",
    "    model.classifier = state['classifier']\n",
    "    model.load_state_dict(state['state_dict'])\n",
    "    model.class_to_idx = state['class_to_idx']\n",
    "    \n",
    "    return model.cuda()\n",
    "\n",
    "model = loadModel('imageclassifiermodel.pth')\n",
    "\n",
    "model"
   ]
  },
  {
   "cell_type": "markdown",
   "metadata": {},
   "source": [
    "# Inference for classification\n",
    "\n",
    "Now you'll write a function to use a trained network for inference. That is, you'll pass an image into the network and predict the class of the flower in the image. Write a function called `predict` that takes an image and a model, then returns the top $K$ most likely classes along with the probabilities. It should look like \n",
    "\n",
    "```python\n",
    "probs, classes = predict(image_path, model)\n",
    "print(probs)\n",
    "print(classes)\n",
    "> [ 0.01558163  0.01541934  0.01452626  0.01443549  0.01407339]\n",
    "> ['70', '3', '45', '62', '55']\n",
    "```\n",
    "\n",
    "First you'll need to handle processing the input image such that it can be used in your network. \n",
    "\n",
    "## Image Preprocessing\n",
    "\n",
    "You'll want to use `PIL` to load the image ([documentation](https://pillow.readthedocs.io/en/latest/reference/Image.html)). It's best to write a function that preprocesses the image so it can be used as input for the model. This function should process the images in the same manner used for training. \n",
    "\n",
    "First, resize the images where the shortest side is 256 pixels, keeping the aspect ratio. This can be done with the [`thumbnail`](http://pillow.readthedocs.io/en/3.1.x/reference/Image.html#PIL.Image.Image.thumbnail) or [`resize`](http://pillow.readthedocs.io/en/3.1.x/reference/Image.html#PIL.Image.Image.thumbnail) methods. Then you'll need to crop out the center 224x224 portion of the image.\n",
    "\n",
    "Color channels of images are typically encoded as integers 0-255, but the model expected floats 0-1. You'll need to convert the values. It's easiest with a Numpy array, which you can get from a PIL image like so `np_image = np.array(pil_image)`.\n",
    "\n",
    "As before, the network expects the images to be normalized in a specific way. For the means, it's `[0.485, 0.456, 0.406]` and for the standard deviations `[0.229, 0.224, 0.225]`. You'll want to subtract the means from each color channel, then divide by the standard deviation. \n",
    "\n",
    "And finally, PyTorch expects the color channel to be the first dimension but it's the third dimension in the PIL image and Numpy array. You can reorder dimensions using [`ndarray.transpose`](https://docs.scipy.org/doc/numpy-1.13.0/reference/generated/numpy.ndarray.transpose.html). The color channel needs to be first and retain the order of the other two dimensions."
   ]
  },
  {
   "cell_type": "code",
   "execution_count": 29,
   "metadata": {},
   "outputs": [],
   "source": [
    "from PIL import Image\n",
    "\n",
    "def process_image(image):\n",
    "    \n",
    "    img = Image.open(image)\n",
    "    \n",
    "    transformations = transforms.Compose([transforms.Resize(256),\n",
    "                                          transforms.CenterCrop(224),\n",
    "                                          transforms.ToTensor(),\n",
    "                                          transforms.Normalize(mean=[0.485, 0.456, 0.406],\n",
    "                                                               std=[0.229, 0.224, 0.225])])\n",
    "    \n",
    "    img_processed = transformations(img)\n",
    "    \n",
    "    return img_processed\n",
    "\n"
   ]
  },
  {
   "cell_type": "markdown",
   "metadata": {},
   "source": [
    "To check your work, the function below converts a PyTorch tensor and displays it in the notebook. If your `process_image` function works, running the output through this function should return the original image (except for the cropped out portions)."
   ]
  },
  {
   "cell_type": "code",
   "execution_count": 30,
   "metadata": {},
   "outputs": [],
   "source": [
    "def imshow(image, ax=None, title=None):\n",
    "    if ax is None:\n",
    "        fig, ax = plt.subplots()\n",
    "    \n",
    "    # PyTorch tensors assume the color channel is the first dimension\n",
    "    # but matplotlib assumes is the third dimension\n",
    "    image = image.transpose((1, 2, 0))\n",
    "    \n",
    "    # Undo preprocessing\n",
    "    mean = np.array([0.485, 0.456, 0.406])\n",
    "    std = np.array([0.229, 0.224, 0.225])\n",
    "    image = std * image + mean\n",
    "    \n",
    "    # Image needs to be clipped between 0 and 1 or it looks like noise when displayed\n",
    "    image = np.clip(image, 0, 1)\n",
    "    \n",
    "    ax.imshow(image)\n",
    "    \n",
    "    return ax\n",
    "\n"
   ]
  },
  {
   "cell_type": "markdown",
   "metadata": {},
   "source": [
    "## Class Prediction\n",
    "\n",
    "Once you can get images in the correct format, it's time to write a function for making predictions with your model. A common practice is to predict the top 5 or so (usually called top-$K$) most probable classes. You'll want to calculate the class probabilities then find the $K$ largest values.\n",
    "\n",
    "To get the top $K$ largest values in a tensor use [`x.topk(k)`](http://pytorch.org/docs/master/torch.html#torch.topk). This method returns both the highest `k` probabilities and the indices of those probabilities corresponding to the classes. You need to convert from these indices to the actual class labels using `class_to_idx` which hopefully you added to the model or from an `ImageFolder` you used to load the data ([see here](#Save-the-checkpoint)). Make sure to invert the dictionary so you get a mapping from index to class as well.\n",
    "\n",
    "Again, this method should take a path to an image and a model checkpoint, then return the probabilities and classes.\n",
    "\n",
    "```python\n",
    "probs, classes = predict(image_path, model)\n",
    "print(probs)\n",
    "print(classes)\n",
    "> [ 0.01558163  0.01541934  0.01452626  0.01443549  0.01407339]\n",
    "> ['70', '3', '45', '62', '55']\n",
    "```"
   ]
  },
  {
   "cell_type": "code",
   "execution_count": 31,
   "metadata": {},
   "outputs": [],
   "source": [
    "def predict(image_path, model, topk=5):\n",
    "    ''' Predict the class (or classes) of an image using a trained deep learning model.\n",
    "    '''\n",
    "    \n",
    "    # TODO: Implement the code to predict the class from an image file\n",
    "    img = process_image(image_path).unsqueeze(0)\n",
    "\n",
    "    img_tf = img.cuda().float()\n",
    "    \n",
    "    model.float()\n",
    "    model.eval()\n",
    "    with torch.no_grad():\n",
    "        prediction = model(img_tf)\n",
    "        probs, classes = torch.topk(prediction, topk)\n",
    "    \n",
    "    probs = probs.cpu().exp().data.numpy()[0]\n",
    "    \n",
    "    classes = classes.cpu().data.numpy()[0]\n",
    "    class_keys = {x:y for y, x in model.class_to_idx.items()}\n",
    "    classes = [class_keys[i] for i in classes]\n",
    "        \n",
    "    return probs, classes"
   ]
  },
  {
   "cell_type": "markdown",
   "metadata": {},
   "source": [
    "## Sanity Checking\n",
    "\n",
    "Now that you can use a trained model for predictions, check to make sure it makes sense. Even if the testing accuracy is high, it's always good to check that there aren't obvious bugs. Use `matplotlib` to plot the probabilities for the top 5 classes as a bar graph, along with the input image. It should look like this:\n",
    "\n",
    "<img src='assets/inference_example.png' width=300px>\n",
    "\n",
    "You can convert from the class integer encoding to actual flower names with the `cat_to_name.json` file (should have been loaded earlier in the notebook). To show a PyTorch tensor as an image, use the `imshow` function defined above."
   ]
  },
  {
   "cell_type": "code",
   "execution_count": 33,
   "metadata": {},
   "outputs": [
    {
     "name": "stdout",
     "output_type": "stream",
     "text": [
      "Probabilies: [ 0.61749619  0.05033429  0.04939224  0.04031222  0.03099358]\n",
      "Classes: ['85', '96', '43', '53', '101']\n"
     ]
    },
    {
     "data": {
      "text/plain": [
       "<Container object of 5 artists>"
      ]
     },
     "execution_count": 33,
     "metadata": {},
     "output_type": "execute_result"
    },
    {
     "data": {
      "image/png": "[encoded data removed]",
      "text/plain": [
       "<matplotlib.figure.Figure at 0x7fe7301dc9e8>"
      ]
     },
     "metadata": {},
     "output_type": "display_data"
    },
    {
     "data": {
      "image/png": "[encoded data removed]",
      "text/plain": [
       "<matplotlib.figure.Figure at 0x7fe71acdca90>"
      ]
     },
     "metadata": {},
     "output_type": "display_data"
    }
   ],
   "source": [
    "# TODO: Display an image along with the top 5 classes\n",
    "import os, random\n",
    "\n",
    "test_image_index = random.randrange(1,102+1,1)\n",
    "test_image_dir = test_dir + \"/\" + str(test_image_index)\n",
    "\n",
    "\n",
    "test_image = test_image_dir + \"/\" + random.choice(os.listdir(test_image_dir)) \n",
    "img = process_image(test_image)\n",
    "\n",
    "# Display test image, with Label as title\n",
    "label = cat_to_name.get(str(test_image_index))\n",
    "ax = imshow(img.numpy(), ax=plt).title(label)\n",
    "\n",
    "probs, classes = predict(test_image, model)\n",
    "\n",
    "# Display probabilities and Classes\n",
    "print(\"Probabilies: {}\".format(probs))\n",
    "print(\"Classes: {}\".format(classes))\n",
    "y = np.arange(len(classes))\n",
    "y_labels = [cat_to_name.get(i) for i in classes[::-1]]\n",
    "#print(y_labels)\n",
    "x = np.array(probs)\n",
    "y_labels.reverse()\n",
    "# Display plot of Probabilities and Classes\n",
    "   \n",
    "plt.rcParams[\"ytick.labelsize\"] = 12\n",
    "fig, ax = plt.subplots()\n",
    "ax.set_yticks(y)\n",
    "ax.set_yticklabels(y_labels)\n",
    "ax.invert_yaxis()\n",
    "plt.xlabel(\"Probability\")\n",
    "plt.barh(y, x)"
   ]
  },
  {
   "cell_type": "code",
   "execution_count": null,
   "metadata": {},
   "outputs": [],
   "source": []
  }
 ],
 "metadata": {
  "kernelspec": {
   "display_name": "Python 3",
   "language": "python",
   "name": "python3"
  },
  "language_info": {
   "codemirror_mode": {
    "name": "ipython",
    "version": 3
   },
   "file_extension": ".py",
   "mimetype": "text/x-python",
   "name": "python",
   "nbconvert_exporter": "python",
   "pygments_lexer": "ipython3",
   "version": "3.6.3"
  }
 },
 "nbformat": 4,
 "nbformat_minor": 2
}
